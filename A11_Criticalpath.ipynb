{
  "nbformat": 4,
  "nbformat_minor": 0,
  "metadata": {
    "colab": {
      "name": "A11-Criticalpath.ipynb",
      "provenance": [],
      "collapsed_sections": [],
      "authorship_tag": "ABX9TyN7H+CU8yYOSapxD5GL3CCr",
      "include_colab_link": true
    },
    "kernelspec": {
      "name": "python3",
      "display_name": "Python 3"
    },
    "language_info": {
      "name": "python"
    }
  },
  "cells": [
    {
      "cell_type": "markdown",
      "metadata": {
        "id": "view-in-github",
        "colab_type": "text"
      },
      "source": [
        "<a href=\"https://colab.research.google.com/github/Priyankansd/IT-496/blob/main/A11_Criticalpath.ipynb\" target=\"_parent\"><img src=\"https://colab.research.google.com/assets/colab-badge.svg\" alt=\"Open In Colab\"/></a>"
      ]
    },
    {
      "cell_type": "code",
      "execution_count": 6,
      "metadata": {
        "id": "3bajLguCZLYy"
      },
      "outputs": [],
      "source": [
        "import pandas as pd\n",
        "import tensorflow_probability as tfp\n",
        "tfd =tfp.distributions\n"
      ]
    },
    {
      "cell_type": "code",
      "source": [
        "tasksDf= pd.read_csv(\"/content/sample_data/PERT-CPM.csv\")\n",
        "print(tasksDf)\n",
        "taskNames=tasksDf['tasks']\n",
        "\n",
        "simulationDF=pd.DataFrame(columns=taskNames)\n",
        "\n",
        "print(simulationDF.columns)\n",
        "for index,task in tasksDf.iterrows():\n",
        "  dist=tfd.PERT(low=task['best'], peak=task['mostL'], high=task['worst'], temperature=4)\n",
        "  simulationDF[task['tasks']]=dist.sample(1000)\n",
        "\n",
        "print(simulationDF.head(2))\n"
      ],
      "metadata": {
        "id": "OIuPxYDiZkQy",
        "colab": {
          "base_uri": "https://localhost:8080/"
        },
        "outputId": "50860668-d691-47fd-ab1d-ee46f7d5ad4c"
      },
      "execution_count": 12,
      "outputs": [
        {
          "output_type": "stream",
          "name": "stdout",
          "text": [
            "   tasks     pred  best  mostL  worst\n",
            "0      A      NaN     3      6      9\n",
            "1      B      NaN     2      5      6\n",
            "2      C        B     2      3      7\n",
            "3      D      A,C     1      3      3\n",
            "4      E        D     0      7      8\n",
            "5      F        C     1      2     10\n",
            "6      G        F     3      4     12\n",
            "7      H        F     1      2     15\n",
            "8      I        B     5     10     30\n",
            "9      J  E, G, H     1      3      4\n",
            "10   EOP      I,J     0      0      0\n",
            "Index(['A', 'B', 'C', 'D', 'E', 'F', 'G', 'H', 'I', 'J', 'EOP'], dtype='object', name='tasks')\n",
            "tasks         A         B         C         D         E         F         G  \\\n",
            "0      5.907580  5.711890  2.738746  2.760697  6.918298  1.898976  6.617098   \n",
            "1      6.862692  5.055655  3.086144  2.230022  7.077183  1.647543  3.794597   \n",
            "\n",
            "tasks         H          I         J  EOP  \n",
            "0      5.069365  17.233074  3.292762  NaN  \n",
            "1      1.003642  12.166176  2.718955  NaN  \n"
          ]
        }
      ]
    },
    {
      "cell_type": "code",
      "source": [
        "paths=['ABEJ','BCDEJ','BCFGJ','BCFHJ','BI']\n",
        "\n",
        "pathsDF=pd.DataFrame(columns=paths)\n",
        "ADEJ=[]\n",
        "BCDEJ=[]\n",
        "BCFGJ=[]\n",
        "BCFHJ=[]\n",
        "BI=[]\n",
        "\n",
        "for index,row in simulationDF.iterrows():\n",
        "  ADEJ.append(row['A']+row['D']+row['E']+row['J'])\n",
        "  BCDEJ.append(row['B']+row['C']+row['D']+row['E']+row['J'])\n",
        "  BCFGJ.append(row['B']+row['C']+row['F']+row['G']+row['J'])\n",
        "  BCFHJ.append(row['B']+row['C']+row['F']+row['H']+row['J'])\n",
        "  BI.append(row['B']+row['I'])\n",
        "\n",
        "pathsDF['ABEJ']=ADEJ\n",
        "pathsDF['BCDEJ']=BCDEJ\n",
        "pathsDF['BCFGJ']=BCFGJ\n",
        "pathsDF['BCFHJ']=BCFHJ\n",
        "pathsDF['BI']=BI\n",
        "print(pathsDF.head(2))"
      ],
      "metadata": {
        "colab": {
          "base_uri": "https://localhost:8080/"
        },
        "id": "5ROh7VQsrXWR",
        "outputId": "532b0f68-1f2b-4bbd-9ff6-29dfc5aa4f00"
      },
      "execution_count": 18,
      "outputs": [
        {
          "output_type": "stream",
          "name": "stdout",
          "text": [
            "        ABEJ      BCDEJ      BCFGJ      BCFHJ         BI\n",
            "0  18.879337  21.422394  20.259472  18.711739  22.944965\n",
            "1  18.888851  20.167957  16.302895  13.511940  17.221830\n"
          ]
        }
      ]
    },
    {
      "cell_type": "code",
      "source": [
        "simulationDF.to_csv('/content/sample_data/simulation.xlsx',index=False)"
      ],
      "metadata": {
        "id": "1yzr6B7csTJs"
      },
      "execution_count": 19,
      "outputs": []
    },
    {
      "cell_type": "markdown",
      "source": [
        ""
      ],
      "metadata": {
        "id": "TeYKor2Es7Pt"
      }
    }
  ]
}