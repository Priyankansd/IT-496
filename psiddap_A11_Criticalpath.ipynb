{
  "nbformat": 4,
  "nbformat_minor": 0,
  "metadata": {
    "colab": {
      "name": "psiddap-A11-Criticalpath.ipynb",
      "provenance": [],
      "collapsed_sections": [],
      "authorship_tag": "ABX9TyN85NyIsB0McHhCDlvhxHUj",
      "include_colab_link": true
    },
    "kernelspec": {
      "name": "python3",
      "display_name": "Python 3"
    },
    "language_info": {
      "name": "python"
    }
  },
  "cells": [
    {
      "cell_type": "markdown",
      "metadata": {
        "id": "view-in-github",
        "colab_type": "text"
      },
      "source": [
        "<a href=\"https://colab.research.google.com/github/Priyankansd/IT-496/blob/main/psiddap_A11_Criticalpath.ipynb\" target=\"_parent\"><img src=\"https://colab.research.google.com/assets/colab-badge.svg\" alt=\"Open In Colab\"/></a>"
      ]
    },
    {
      "cell_type": "code",
      "execution_count": 119,
      "metadata": {
        "id": "3bajLguCZLYy"
      },
      "outputs": [],
      "source": [
        "import pandas as pd\n",
        "import tensorflow_probability as tfp\n",
        "tfd =tfp.distributions\n"
      ]
    },
    {
      "cell_type": "code",
      "source": [
        "tasksDf= pd.read_csv(\"/content/sample_data/PERT-CPM.csv\")\n",
        "taskNames=tasksDf['tasks']\n",
        "\n",
        "simulationDF=pd.DataFrame(columns=taskNames)\n",
        "\n",
        "print(simulationDF.columns)\n",
        "for index,task in tasksDf.iterrows():\n",
        "  dist=tfd.PERT(low=task['best'], peak=task['mostL'], high=task['worst'], temperature=4)\n",
        "  simulationDF[task['tasks']]=dist.sample(1000)\n",
        "print(simulationDF.head(2))\n",
        "\n"
      ],
      "metadata": {
        "id": "OIuPxYDiZkQy",
        "colab": {
          "base_uri": "https://localhost:8080/"
        },
        "outputId": "dd57a379-ae0d-454b-e398-7a6f8682e9fe"
      },
      "execution_count": 120,
      "outputs": [
        {
          "output_type": "stream",
          "name": "stdout",
          "text": [
            "Index(['A', 'B', 'C', 'D', 'E', 'F', 'G', 'H', 'I', 'J', 'EOP'], dtype='object', name='tasks')\n",
            "tasks         A         B         C         D         E         F         G  \\\n",
            "0      6.857649  4.148754  3.282894  2.605755  5.888860  2.109402  4.365066   \n",
            "1      5.622523  4.526079  4.926728  2.555119  7.079595  3.409470  6.617999   \n",
            "\n",
            "tasks         H          I         J  EOP  \n",
            "0      4.845081  12.395744  2.802145  NaN  \n",
            "1      8.026889  17.054993  2.895543  NaN  \n"
          ]
        }
      ]
    },
    {
      "cell_type": "code",
      "source": [
        "paths=['ADEJ','BCDEJ','BCFGJ','BCFHJ','BI']\n",
        "\n",
        "pathsDF=pd.DataFrame(columns=paths)\n",
        "ADEJ=[]\n",
        "BCDEJ=[]\n",
        "BCFGJ=[]\n",
        "BCFHJ=[]\n",
        "BI=[]\n",
        "\n",
        "for index,row in simulationDF.iterrows():\n",
        "  ADEJ.append(row['A']+row['D']+row['E']+row['J'])\n",
        "  BCDEJ.append(row['B']+row['C']+row['D']+row['E']+row['J'])\n",
        "  BCFGJ.append(row['B']+row['C']+row['F']+row['G']+row['J'])\n",
        "  BCFHJ.append(row['B']+row['C']+row['F']+row['H']+row['J'])\n",
        "  BI.append(row['B']+row['I'])\n",
        "\n",
        "pathsDF['ADEJ']=ADEJ\n",
        "pathsDF['BCDEJ']=BCDEJ\n",
        "pathsDF['BCFGJ']=BCFGJ\n",
        "pathsDF['BCFHJ']=BCFHJ\n",
        "pathsDF['BI']=BI\n",
        "print(pathsDF.head(2))"
      ],
      "metadata": {
        "colab": {
          "base_uri": "https://localhost:8080/"
        },
        "id": "5ROh7VQsrXWR",
        "outputId": "0006d47d-de21-43f0-c95a-f71a03d7c7a1"
      },
      "execution_count": 121,
      "outputs": [
        {
          "output_type": "stream",
          "name": "stdout",
          "text": [
            "        ADEJ      BCDEJ      BCFGJ      BCFHJ         BI\n",
            "0  18.154409  18.728407  16.708261  17.188276  16.544498\n",
            "1  18.152779  21.983063  22.375816  23.784706  21.581072\n"
          ]
        }
      ]
    },
    {
      "cell_type": "code",
      "source": [
        "pathsDF['critical']=pathsDF.idxmax(axis=1)\n",
        "print(pathsDF)"
      ],
      "metadata": {
        "id": "1yzr6B7csTJs",
        "colab": {
          "base_uri": "https://localhost:8080/"
        },
        "outputId": "ecc0b710-487b-4711-d460-77b263c16885"
      },
      "execution_count": 122,
      "outputs": [
        {
          "output_type": "stream",
          "name": "stdout",
          "text": [
            "          ADEJ      BCDEJ      BCFGJ      BCFHJ         BI critical\n",
            "0    18.154409  18.728407  16.708261  17.188276  16.544498    BCDEJ\n",
            "1    18.152779  21.983063  22.375816  23.784706  21.581072    BCFHJ\n",
            "2    19.070288  21.968079  20.165186  18.816954  11.901563    BCDEJ\n",
            "3    19.296305  20.570721  22.780006  21.817528  16.064213    BCFGJ\n",
            "4    16.677137  20.565315  18.828892  17.500771  12.834561    BCDEJ\n",
            "..         ...        ...        ...        ...        ...      ...\n",
            "995  19.651001  19.473087  21.086651  22.545185  14.173386    BCFHJ\n",
            "996  15.562834  16.822113  17.581364  15.565085  15.241236    BCFGJ\n",
            "997  19.789803  20.499950  22.546551  16.152763  14.678258    BCFGJ\n",
            "998  17.378494  17.493238  17.207788  18.099072  17.034000    BCFHJ\n",
            "999  20.004900  21.013206  22.537777  17.152580  14.775522    BCFGJ\n",
            "\n",
            "[1000 rows x 6 columns]\n"
          ]
        }
      ]
    },
    {
      "cell_type": "markdown",
      "source": [
        ""
      ],
      "metadata": {
        "id": "TeYKor2Es7Pt"
      }
    },
    {
      "cell_type": "code",
      "source": [
        "pdDF = pathsDF['critical'].value_counts()\n",
        "pdDF.plot(kind ='bar', color='blue')\n"
      ],
      "metadata": {
        "colab": {
          "base_uri": "https://localhost:8080/",
          "height": 303
        },
        "id": "TQdJeC-x7G6A",
        "outputId": "c336fcc9-4b2e-4f52-d2f5-9c312bb9e050"
      },
      "execution_count": 123,
      "outputs": [
        {
          "output_type": "execute_result",
          "data": {
            "text/plain": [
              "<matplotlib.axes._subplots.AxesSubplot at 0x7f5829b5a1d0>"
            ]
          },
          "metadata": {},
          "execution_count": 123
        },
        {
          "output_type": "display_data",
          "data": {
            "text/plain": [
              "<Figure size 432x288 with 1 Axes>"
            ],
            "image/png": "[encoded data removed]"
          },
          "metadata": {
            "needs_background": "light"
          }
        }
      ]
    }
  ]
}