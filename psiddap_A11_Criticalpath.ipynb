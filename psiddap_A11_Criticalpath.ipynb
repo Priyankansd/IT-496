{
  "nbformat": 4,
  "nbformat_minor": 0,
  "metadata": {
    "colab": {
      "name": "psiddap-A11-Criticalpath.ipynb",
      "provenance": [],
      "collapsed_sections": [],
      "authorship_tag": "ABX9TyMlXwSq+L9DW782ccJrq86I",
      "include_colab_link": true
    },
    "kernelspec": {
      "name": "python3",
      "display_name": "Python 3"
    },
    "language_info": {
      "name": "python"
    }
  },
  "cells": [
    {
      "cell_type": "markdown",
      "metadata": {
        "id": "view-in-github",
        "colab_type": "text"
      },
      "source": [
        "<a href=\"https://colab.research.google.com/github/Priyankansd/IT-496/blob/main/psiddap_A11_Criticalpath.ipynb\" target=\"_parent\"><img src=\"https://colab.research.google.com/assets/colab-badge.svg\" alt=\"Open In Colab\"/></a>"
      ]
    },
    {
      "cell_type": "code",
      "execution_count": 57,
      "metadata": {
        "id": "3bajLguCZLYy"
      },
      "outputs": [],
      "source": [
        "import pandas as pd\n",
        "import tensorflow_probability as tfp\n",
        "tfd =tfp.distributions\n"
      ]
    },
    {
      "cell_type": "code",
      "source": [
        "tasksDf= pd.read_csv(\"/content/sample_data/PERT-CPM.csv\")\n",
        "taskNames=tasksDf['tasks']\n",
        "\n",
        "simulationDF=pd.DataFrame(columns=taskNames)\n",
        "\n",
        "print(simulationDF.columns)\n",
        "for index,task in tasksDf.iterrows():\n",
        "  dist=tfd.PERT(low=task['best'], peak=task['mostL'], high=task['worst'], temperature=4)\n",
        "  simulationDF[task['tasks']]=dist.sample(1000)\n",
        "print(simulationDF.head(2))\n",
        "\n"
      ],
      "metadata": {
        "id": "OIuPxYDiZkQy",
        "colab": {
          "base_uri": "https://localhost:8080/"
        },
        "outputId": "9091a44d-8de5-4108-b3ca-40a2004d4c84"
      },
      "execution_count": 58,
      "outputs": [
        {
          "output_type": "stream",
          "name": "stdout",
          "text": [
            "Index(['A', 'B', 'C', 'D', 'E', 'F', 'G', 'H', 'I', 'J', 'EOP'], dtype='object', name='tasks')\n",
            "tasks         A         B         C         D         E         F         G  \\\n",
            "0      6.268256  4.705945  2.686948  2.943546  5.806650  3.518733  4.139623   \n",
            "1      7.816159  5.833167  5.506468  2.053941  5.513869  4.084047  4.512852   \n",
            "\n",
            "tasks         H          I         J  EOP  \n",
            "0      2.259581   9.914780  3.730409  NaN  \n",
            "1      3.364980  10.443825  1.196540  NaN  \n"
          ]
        }
      ]
    },
    {
      "cell_type": "code",
      "source": [
        "paths=['ADEJ','BCDEJ','BCFGJ','BCFHJ','BI']\n",
        "\n",
        "pathsDF=pd.DataFrame(columns=paths)\n",
        "ADEJ=[]\n",
        "BCDEJ=[]\n",
        "BCFGJ=[]\n",
        "BCFHJ=[]\n",
        "BI=[]\n",
        "\n",
        "for index,row in simulationDF.iterrows():\n",
        "  ADEJ.append(row['A']+row['D']+row['E']+row['J'])\n",
        "  BCDEJ.append(row['B']+row['C']+row['D']+row['E']+row['J'])\n",
        "  BCFGJ.append(row['B']+row['C']+row['F']+row['G']+row['J'])\n",
        "  BCFHJ.append(row['B']+row['C']+row['F']+row['H']+row['J'])\n",
        "  BI.append(row['B']+row['I'])\n",
        "\n",
        "pathsDF['ADEJ']=ADEJ\n",
        "pathsDF['BCDEJ']=BCDEJ\n",
        "pathsDF['BCFGJ']=BCFGJ\n",
        "pathsDF['BCFHJ']=BCFHJ\n",
        "pathsDF['BI']=BI\n",
        "print(pathsDF.head(2))"
      ],
      "metadata": {
        "colab": {
          "base_uri": "https://localhost:8080/"
        },
        "id": "5ROh7VQsrXWR",
        "outputId": "7babd81e-c55f-4200-9a15-decd309f26c0"
      },
      "execution_count": 59,
      "outputs": [
        {
          "output_type": "stream",
          "name": "stdout",
          "text": [
            "        ADEJ      BCDEJ      BCFGJ      BCFHJ         BI\n",
            "0  18.748861  19.873499  18.781658  16.901617  14.620725\n",
            "1  16.580509  20.103985  21.133074  19.985201  16.276991\n"
          ]
        }
      ]
    },
    {
      "cell_type": "code",
      "source": [
        "import numpy as np\n",
        "\n",
        "pathsDF['critical']=pathsDF.select_dtypes(np.number).idxmax(axis=1,skipna=True)\n",
        "print(pathsDF)"
      ],
      "metadata": {
        "id": "1yzr6B7csTJs",
        "colab": {
          "base_uri": "https://localhost:8080/"
        },
        "outputId": "e7f2f126-33dc-47dc-e127-17c8722b6136"
      },
      "execution_count": 60,
      "outputs": [
        {
          "output_type": "stream",
          "name": "stdout",
          "text": [
            "          ADEJ      BCDEJ      BCFGJ      BCFHJ         BI critical\n",
            "0    18.748861  19.873499  18.781658  16.901617  14.620725    BCDEJ\n",
            "1    16.580509  20.103985  21.133074  19.985201  16.276991    BCFGJ\n",
            "2    17.315430  20.116856  18.132812  20.332327   9.341868    BCFHJ\n",
            "3    16.959684  18.325151  21.145428  18.427435  18.590305    BCFGJ\n",
            "4    16.614683  19.170599  22.124092  19.071587  18.821754    BCFGJ\n",
            "..         ...        ...        ...        ...        ...      ...\n",
            "995  17.803730  20.314585  20.467409  22.171370  19.496910    BCFHJ\n",
            "996  17.315489  18.941643  17.077730  16.829870  12.955095    BCDEJ\n",
            "997  19.161476  20.641111  19.125481  22.856279  16.373707    BCFHJ\n",
            "998  15.848400  19.635410  17.653442  15.393829  23.279795       BI\n",
            "999  15.247788  19.238682  23.683327  24.037781  10.300129    BCFHJ\n",
            "\n",
            "[1000 rows x 6 columns]\n"
          ]
        }
      ]
    },
    {
      "cell_type": "markdown",
      "source": [
        ""
      ],
      "metadata": {
        "id": "TeYKor2Es7Pt"
      }
    },
    {
      "cell_type": "code",
      "source": [
        "pdDF = pathsDF['critical'].value_counts(ascending=True)\n",
        "pdDF.plot(kind ='bar', color='orange')\n"
      ],
      "metadata": {
        "colab": {
          "base_uri": "https://localhost:8080/",
          "height": 303
        },
        "id": "TQdJeC-x7G6A",
        "outputId": "c728553d-6e58-4a11-bf88-f4c09ab9715d"
      },
      "execution_count": 62,
      "outputs": [
        {
          "output_type": "execute_result",
          "data": {
            "text/plain": [
              "<matplotlib.axes._subplots.AxesSubplot at 0x7fb693e6d410>"
            ]
          },
          "metadata": {},
          "execution_count": 62
        },
        {
          "output_type": "display_data",
          "data": {
            "text/plain": [
              "<Figure size 432x288 with 1 Axes>"
            ],
            "image/png": "[encoded data removed]"
          },
          "metadata": {
            "needs_background": "light"
          }
        }
      ]
    }
  ]
}