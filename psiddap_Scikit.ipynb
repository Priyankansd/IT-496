{
  "nbformat": 4,
  "nbformat_minor": 0,
  "metadata": {
    "colab": {
      "name": "psiddap-Scikit.ipynb",
      "provenance": [],
      "authorship_tag": "ABX9TyO7v0JAb8nufMbruhQJD+Yg",
      "include_colab_link": true
    },
    "kernelspec": {
      "name": "python3",
      "display_name": "Python 3"
    },
    "language_info": {
      "name": "python"
    }
  },
  "cells": [
    {
      "cell_type": "markdown",
      "metadata": {
        "id": "view-in-github",
        "colab_type": "text"
      },
      "source": [
        "<a href=\"https://colab.research.google.com/github/Priyankansd/IT-496/blob/main/psiddap_Scikit.ipynb\" target=\"_parent\"><img src=\"https://colab.research.google.com/assets/colab-badge.svg\" alt=\"Open In Colab\"/></a>"
      ]
    },
    {
      "cell_type": "code",
      "execution_count": 12,
      "metadata": {
        "colab": {
          "base_uri": "https://localhost:8080/"
        },
        "id": "8jVDa39ovdaB",
        "outputId": "919b4e5d-c6be-4771-a646-ad7a549ed9ae"
      },
      "outputs": [
        {
          "output_type": "stream",
          "name": "stdout",
          "text": [
            "Number of Mislabeled points out of a total 150 points : 6 \n",
            "col_0   0   1   2\n",
            "row_0            \n",
            "0      50   0   0\n",
            "1       0  47   3\n",
            "2       0   3  47\n"
          ]
        }
      ],
      "source": [
        "from sklearn import datasets\n",
        "import pandas as pd\n",
        "iris= datasets.load_iris()\n",
        "from sklearn.naive_bayes import GaussianNB\n",
        "gnb=GaussianNB()\n",
        "y_pred = gnb.fit(iris.data, iris.target).predict(iris.data)\n",
        "print(\"Number of Mislabeled points out of a total %d points : %d \"% (iris.data.shape[0],(iris.target!=y_pred).sum()))\n",
        "print(pd.crosstab(gnb.predict(iris.data),iris.target))"
      ]
    }
  ]
}